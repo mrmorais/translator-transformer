{
 "cells": [
  {
   "cell_type": "code",
   "execution_count": null,
   "id": "5a66d42d",
   "metadata": {},
   "outputs": [
    {
     "data": {
      "text/html": [
       "Finishing previous runs because reinit is set to 'default'."
      ],
      "text/plain": [
       "<IPython.core.display.HTML object>"
      ]
     },
     "metadata": {},
     "output_type": "display_data"
    },
    {
     "name": "stderr",
     "output_type": "stream",
     "text": [
      "\u001b[34m\u001b[1mwandb\u001b[0m: \u001b[32m\u001b[41mERROR\u001b[0m The nbformat package was not found. It is required to save notebook history.\n"
     ]
    },
    {
     "data": {
      "text/html": [],
      "text/plain": [
       "<IPython.core.display.HTML object>"
      ]
     },
     "metadata": {},
     "output_type": "display_data"
    },
    {
     "data": {
      "text/html": [
       " View run <strong style=\"color:#cdcd00\">cosmic-eon-1</strong> at: <a href='https://wandb.ai/mrmorais-home/repo/runs/mf0ch6ft' target=\"_blank\">https://wandb.ai/mrmorais-home/repo/runs/mf0ch6ft</a><br> View project at: <a href='https://wandb.ai/mrmorais-home/repo' target=\"_blank\">https://wandb.ai/mrmorais-home/repo</a><br>Synced 5 W&B file(s), 0 media file(s), 0 artifact file(s) and 0 other file(s)"
      ],
      "text/plain": [
       "<IPython.core.display.HTML object>"
      ]
     },
     "metadata": {},
     "output_type": "display_data"
    },
    {
     "data": {
      "text/html": [
       "Find logs at: <code>./wandb/run-20250426_173328-mf0ch6ft/logs</code>"
      ],
      "text/plain": [
       "<IPython.core.display.HTML object>"
      ]
     },
     "metadata": {},
     "output_type": "display_data"
    },
    {
     "data": {
      "text/html": [
       "Tracking run with wandb version 0.19.10"
      ],
      "text/plain": [
       "<IPython.core.display.HTML object>"
      ]
     },
     "metadata": {},
     "output_type": "display_data"
    },
    {
     "data": {
      "text/html": [
       "Run data is saved locally in <code>/Users/mrmorais/Code/att-trad/repo/wandb/run-20250426_174235-d99d17o8</code>"
      ],
      "text/plain": [
       "<IPython.core.display.HTML object>"
      ]
     },
     "metadata": {},
     "output_type": "display_data"
    },
    {
     "data": {
      "text/html": [
       "Syncing run <strong><a href='https://wandb.ai/mrmorais-home/repo/runs/d99d17o8' target=\"_blank\">electric-rain-2</a></strong> to <a href='https://wandb.ai/mrmorais-home/repo' target=\"_blank\">Weights & Biases</a> (<a href='https://wandb.me/developer-guide' target=\"_blank\">docs</a>)<br>"
      ],
      "text/plain": [
       "<IPython.core.display.HTML object>"
      ]
     },
     "metadata": {},
     "output_type": "display_data"
    },
    {
     "data": {
      "text/html": [
       " View project at <a href='https://wandb.ai/mrmorais-home/repo' target=\"_blank\">https://wandb.ai/mrmorais-home/repo</a>"
      ],
      "text/plain": [
       "<IPython.core.display.HTML object>"
      ]
     },
     "metadata": {},
     "output_type": "display_data"
    },
    {
     "data": {
      "text/html": [
       " View run at <a href='https://wandb.ai/mrmorais-home/repo/runs/d99d17o8' target=\"_blank\">https://wandb.ai/mrmorais-home/repo/runs/d99d17o8</a>"
      ],
      "text/plain": [
       "<IPython.core.display.HTML object>"
      ]
     },
     "metadata": {},
     "output_type": "display_data"
    },
    {
     "name": "stderr",
     "output_type": "stream",
     "text": [
      "\u001b[34m\u001b[1mwandb\u001b[0m: Downloading large artifact attn-translator:v7, 349.57MB. 1 files... \n",
      "\u001b[34m\u001b[1mwandb\u001b[0m:   1 of 1 files downloaded.  \n",
      "Done. 0:0:37.8\n"
     ]
    }
   ],
   "source": [
    "import wandb\n",
    "\n",
    "# Comment the next 3 lines and uncomment the following if you want to use downloaded weights\n",
    "run = wandb.init()\n",
    "artifact = run.use_artifact('mrmorais-home/translator-attn/attn-translator:v7', type='model')\n",
    "artifact_dir = artifact.download()\n",
    "\n",
    "# artifact_dir = 'artifacts/attn-translator:v7/'"
   ]
  },
  {
   "cell_type": "code",
   "execution_count": 17,
   "id": "51b64f28",
   "metadata": {},
   "outputs": [
    {
     "data": {
      "text/plain": [
       "(30522, 28576)"
      ]
     },
     "execution_count": 17,
     "metadata": {},
     "output_type": "execute_result"
    }
   ],
   "source": [
    "from translator.ray_dataset import get_tokenizers\n",
    "\n",
    "pt_tokenizer, en_tokenizer = get_tokenizers()\n",
    "pt_vocab_size, en_vocab_size = pt_tokenizer.tokenizer.get_vocab_size(), en_tokenizer.tokenizer.get_vocab_size()\n",
    "\n",
    "pt_vocab_size, en_vocab_size"
   ]
  },
  {
   "cell_type": "code",
   "execution_count": 18,
   "id": "3d2a487a",
   "metadata": {},
   "outputs": [
    {
     "name": "stderr",
     "output_type": "stream",
     "text": [
      "/Users/mrmorais/miniforge3/envs/translator-attn/lib/python3.10/site-packages/torch/nn/modules/transformer.py:382: UserWarning: enable_nested_tensor is True, but self.use_nested_tensor is False because encoder_layer.self_attn.batch_first was not True(use batch_first for better inference performance)\n",
      "  warnings.warn(\n"
     ]
    },
    {
     "data": {
      "text/plain": [
       "<All keys matched successfully>"
      ]
     },
     "execution_count": 18,
     "metadata": {},
     "output_type": "execute_result"
    }
   ],
   "source": [
    "import torch\n",
    "import os\n",
    "from translator.model import TranslatorModel\n",
    "\n",
    "model = TranslatorModel(pt_vocab_size, en_vocab_size)\n",
    "device = 'cpu'\n",
    "\n",
    "model.load_state_dict(torch.load(os.path.join(artifact_dir, 'model.pt'), weights_only=True, map_location=device))"
   ]
  },
  {
   "cell_type": "code",
   "execution_count": null,
   "id": "7ee331ce",
   "metadata": {},
   "outputs": [
    {
     "name": "stderr",
     "output_type": "stream",
     "text": [
      "/Users/mrmorais/miniforge3/envs/translator-attn/lib/python3.10/site-packages/torch/nn/functional.py:5962: UserWarning: Support for mismatched key_padding_mask and attn_mask is deprecated. Use same type for both instead.\n",
      "  warnings.warn(\n"
     ]
    },
    {
     "data": {
      "text/plain": [
       "\"i ' m working late because i ' m a singer.\""
      ]
     },
     "execution_count": 30,
     "metadata": {},
     "output_type": "execute_result"
    }
   ],
   "source": [
    "model.translate('Estou trabalhando tarde porque sou uma cantora', pt_tokenizer, en_tokenizer, device)"
   ]
  }
 ],
 "metadata": {
  "kernelspec": {
   "display_name": "translator-attn",
   "language": "python",
   "name": "python3"
  },
  "language_info": {
   "codemirror_mode": {
    "name": "ipython",
    "version": 3
   },
   "file_extension": ".py",
   "mimetype": "text/x-python",
   "name": "python",
   "nbconvert_exporter": "python",
   "pygments_lexer": "ipython3",
   "version": "3.10.16"
  }
 },
 "nbformat": 4,
 "nbformat_minor": 5
}
